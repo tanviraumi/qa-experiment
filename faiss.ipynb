{
 "cells": [
  {
   "cell_type": "code",
   "execution_count": null,
   "id": "2d8fab52-c8e0-4950-8ece-78cba816f6d2",
   "metadata": {},
   "outputs": [],
   "source": [
    "# The first thing we need is data, we’ll be concatenating several datasets from this semantic test similarity hub repo.\n",
    "# We will download each dataset, and extract the relevant text columns into a single list.\n",
    "\n",
    "import requests\n",
    "from io import StringIO\n",
    "import pandas as pd\n",
    "\n",
    "res = requests.get('https://raw.githubusercontent.com/brmson/dataset-sts/master/data/sts/sick2014/SICK_train.txt')\n",
    "# create dataframe\n",
    "data = pd.read_csv(StringIO(res.text), sep='\\t')\n",
    "data.head()"
   ]
  },
  {
   "cell_type": "code",
   "execution_count": null,
   "id": "d9506de9-c25b-4781-bdb7-4f7ae6910409",
   "metadata": {},
   "outputs": [],
   "source": [
    "# we take all samples from both sentence A and B\n",
    "sentences = data['sentence_A'].tolist()\n",
    "sentence_b = data['sentence_B'].tolist()\n",
    "sentences.extend(sentence_b)  # merge them\n",
    "len(set(sentences))  # together we have ~4.5K unique sentences"
   ]
  },
  {
   "cell_type": "code",
   "execution_count": null,
   "id": "d9f7828a-b10b-48ec-9900-7d1331559726",
   "metadata": {},
   "outputs": [],
   "source": [
    "# This isn't a particularly large number, so let's pull in a few more similar datasets.\n",
    "urls = [\n",
    "    'https://raw.githubusercontent.com/brmson/dataset-sts/master/data/sts/semeval-sts/2012/MSRpar.train.tsv',\n",
    "    'https://raw.githubusercontent.com/brmson/dataset-sts/master/data/sts/semeval-sts/2012/MSRpar.test.tsv',\n",
    "    'https://raw.githubusercontent.com/brmson/dataset-sts/master/data/sts/semeval-sts/2012/OnWN.test.tsv',\n",
    "    'https://raw.githubusercontent.com/brmson/dataset-sts/master/data/sts/semeval-sts/2013/OnWN.test.tsv',\n",
    "    'https://raw.githubusercontent.com/brmson/dataset-sts/master/data/sts/semeval-sts/2014/OnWN.test.tsv',\n",
    "    'https://raw.githubusercontent.com/brmson/dataset-sts/master/data/sts/semeval-sts/2014/images.test.tsv',\n",
    "    'https://raw.githubusercontent.com/brmson/dataset-sts/master/data/sts/semeval-sts/2015/images.test.tsv'\n",
    "]\n",
    "# each of these dataset have the same structure, so we loop through each creating our sentences data\n",
    "for url in urls:\n",
    "    res = requests.get(url)\n",
    "    # extract to dataframe\n",
    "    data = pd.read_csv(StringIO(res.text), sep='\\t', header=None, error_bad_lines=False)\n",
    "    # add to columns 1 and 2 to sentences list\n",
    "    sentences.extend(data[1].tolist())\n",
    "    sentences.extend(data[2].tolist())\n",
    "\n",
    "# remove duplicates and NaN\n",
    "sentences = [word for word in list(set(sentences)) if type(word) is str]\n",
    "len(set(sentences))"
   ]
  },
  {
   "cell_type": "code",
   "execution_count": 4,
   "id": "ebf73174-ba46-4b4b-bb8e-e865eaf5b204",
   "metadata": {},
   "outputs": [
    {
     "data": {
      "text/plain": [
       "(14504, 768)"
      ]
     },
     "execution_count": 4,
     "metadata": {},
     "output_type": "execute_result"
    }
   ],
   "source": [
    "# Finally, we build our dense vector representations of each sentence using the sentence-BERT library.\n",
    "\n",
    "from sentence_transformers import SentenceTransformer\n",
    "# initialize sentence transformer model\n",
    "model = SentenceTransformer('bert-base-nli-mean-tokens')\n",
    "# create sentence embeddings\n",
    "sentence_embeddings = model.encode(sentences)\n",
    "sentence_embeddings.shape"
   ]
  },
  {
   "cell_type": "code",
   "execution_count": 5,
   "id": "c184a399-5028-4ff9-a603-79aa7edc199e",
   "metadata": {},
   "outputs": [
    {
     "data": {
      "text/plain": [
       "True"
      ]
     },
     "execution_count": 5,
     "metadata": {},
     "output_type": "execute_result"
    }
   ],
   "source": [
    "# Flat index does not require training\n",
    "import faiss\n",
    "d = sentence_embeddings.shape[1]\n",
    "index = faiss.IndexFlatL2(d)\n",
    "index.is_trained"
   ]
  },
  {
   "cell_type": "code",
   "execution_count": 6,
   "id": "f9213f5e-0319-41e6-8b85-9ab357ae6c8d",
   "metadata": {},
   "outputs": [
    {
     "data": {
      "text/plain": [
       "14504"
      ]
     },
     "execution_count": 6,
     "metadata": {},
     "output_type": "execute_result"
    }
   ],
   "source": [
    "# Once ready, we load our embeddings and query like so:\n",
    "index.add(sentence_embeddings)\n",
    "index.ntotal"
   ]
  },
  {
   "cell_type": "code",
   "execution_count": 7,
   "id": "20b34790-a84a-4589-ba3f-1c31ba880441",
   "metadata": {},
   "outputs": [],
   "source": [
    "# Then search given a query xq and number of nearest neigbors to return k.\n",
    "k = 4\n",
    "xq = model.encode([\"Someone sprints with a football\"])"
   ]
  },
  {
   "cell_type": "code",
   "execution_count": 8,
   "id": "cd17f8ee-42d6-4ef7-b378-5a637e0e8365",
   "metadata": {},
   "outputs": [
    {
     "name": "stdout",
     "output_type": "stream",
     "text": [
      "[[ 4343 11083 10232  3559]]\n",
      "CPU times: user 11.9 ms, sys: 95 µs, total: 12 ms\n",
      "Wall time: 10.6 ms\n"
     ]
    }
   ],
   "source": [
    "%%time\n",
    "D, I = index.search(xq, k)  # search\n",
    "print(I)"
   ]
  },
  {
   "cell_type": "code",
   "execution_count": 9,
   "id": "f0cde188-0eab-4730-bf09-71f5e3720779",
   "metadata": {},
   "outputs": [
    {
     "name": "stdout",
     "output_type": "stream",
     "text": [
      "A group of football players is running in the field\n",
      "A group of people playing football is running in the field\n",
      "Two groups of people are playing football\n",
      "A person playing football is running past an official carrying a football\n"
     ]
    }
   ],
   "source": [
    "# Here we're returning indices [ 4343 11083 10232  3559]. The search takes around 12 ms.\n",
    "answers_index = [4343, 11083, 10232, 3559]\n",
    "for i in answers_index:\n",
    "    print(sentences[i])"
   ]
  },
  {
   "cell_type": "code",
   "execution_count": null,
   "id": "f34d9274-964c-40f9-a478-06129e042b6a",
   "metadata": {},
   "outputs": [],
   "source": [
    "# Now, if we’d rather extract the numerical vectors from Faiss, we can do that too.\n",
    "\n",
    "# we have 4 vectors to return (k) - so we initialize a zero array to hold them\n",
    "import numpy as np\n",
    "vecs = np.zeros((k, d))\n",
    "# then iterate through each ID from I and add the reconstructed vector to our zero-array\n",
    "for i, val in enumerate(I[0].tolist()):\n",
    "    vecs[i, :] = index.reconstruct(val)\n",
    "vecs[0][:100]"
   ]
  },
  {
   "cell_type": "code",
   "execution_count": 11,
   "id": "21215335-3287-4f0b-9926-23eb6096d6ed",
   "metadata": {},
   "outputs": [],
   "source": [
    "# IndexFlatL2 does a brute force so it will be slower when vectors are too many. So lets use the Voronoi one (IndexIVFFlat)\n",
    "nlist = 50  # how many cells\n",
    "# The quantizer index is used to search inside a cell\n",
    "quantizer = faiss.IndexFlatL2(d)\n",
    "index = faiss.IndexIVFFlat(quantizer, d, nlist)"
   ]
  },
  {
   "cell_type": "code",
   "execution_count": 12,
   "id": "1bcea6ce-c7fb-412c-93a3-3543f1ec5bfc",
   "metadata": {},
   "outputs": [
    {
     "name": "stdout",
     "output_type": "stream",
     "text": [
      "False\n",
      "True\n",
      "14504\n"
     ]
    }
   ],
   "source": [
    "# But unlike the flat index, this time we need to train\n",
    "print(index.is_trained)\n",
    "\n",
    "index.train(sentence_embeddings)\n",
    "print(index.is_trained)  # check if index is now trained\n",
    "\n",
    "index.add(sentence_embeddings)\n",
    "print(index.ntotal)  # number of embeddings indexed"
   ]
  },
  {
   "cell_type": "code",
   "execution_count": 13,
   "id": "e86782fb-0199-400a-8a3b-1b8098734bc0",
   "metadata": {},
   "outputs": [
    {
     "name": "stdout",
     "output_type": "stream",
     "text": [
      "[[10232  3559  5912   880]]\n",
      "CPU times: user 830 µs, sys: 237 µs, total: 1.07 ms\n",
      "Wall time: 509 µs\n"
     ]
    }
   ],
   "source": [
    "%%time\n",
    "# Let’s search again using the same indexed sentence embeddings and the same query vector xq.\n",
    "# This time the search time decreased considerably and we get slight\n",
    "D, I = index.search(xq, k)\n",
    "print(I)"
   ]
  },
  {
   "cell_type": "code",
   "execution_count": 16,
   "id": "bd5f5288-02c0-4e15-95f9-b8a7a20a90d0",
   "metadata": {},
   "outputs": [
    {
     "name": "stdout",
     "output_type": "stream",
     "text": [
      "Two groups of people are playing football\n",
      "A person playing football is running past an official carrying a football\n",
      "A football player kicks the ball.\n",
      "A football player is running past an official carrying a football\n"
     ]
    }
   ],
   "source": [
    "# Here we're returning indices [10232  3559  5912   880]. The search takes around 1.07 ms. Its not as good as the\n",
    "# brute force one but still very good.\n",
    "answers_index = [10232, 3559, 5912, 880]\n",
    "for i in answers_index:\n",
    "    print(sentences[i])"
   ]
  },
  {
   "cell_type": "code",
   "execution_count": 17,
   "id": "fe2d3a9c-b895-4c0a-b95a-bf54feb8fd54",
   "metadata": {},
   "outputs": [],
   "source": [
    "# To get better results, we can increase the nprobe: The number of cells to search.\n",
    "index.nprobe = 10"
   ]
  },
  {
   "cell_type": "code",
   "execution_count": 18,
   "id": "6ed247f5-3b30-4e6b-8216-8ff59b1b0843",
   "metadata": {},
   "outputs": [
    {
     "name": "stdout",
     "output_type": "stream",
     "text": [
      "[[ 4343 11083 10232  3559]]\n",
      "CPU times: user 1.84 ms, sys: 3.3 ms, total: 5.14 ms\n",
      "Wall time: 3.9 ms\n"
     ]
    }
   ],
   "source": [
    "%%time\n",
    "D, I = index.search(xq, k)  # search\n",
    "print(I)"
   ]
  },
  {
   "cell_type": "code",
   "execution_count": 20,
   "id": "e39e1161-27c9-4fe1-9704-9a3abe938261",
   "metadata": {},
   "outputs": [
    {
     "data": {
      "text/plain": [
       "False"
      ]
     },
     "execution_count": 20,
     "metadata": {},
     "output_type": "execute_result"
    }
   ],
   "source": [
    "# The search time increased to 5.14 ms but we get the exact same result as the flat index [ 4343 11083 10232  3559].\n",
    "# Lets try one final trick (aka product Quantization or PQ). Lets try that\n",
    "\n",
    "m = 8  # number of centroid IDs in final compressed vectors (d % m == 0)\n",
    "bits = 8 # number of bits in each centroid\n",
    "\n",
    "quantizer = faiss.IndexFlatL2(d)  # we keep the same L2 distance flat index\n",
    "index = faiss.IndexIVFPQ(quantizer, d, nlist, m, bits)\n",
    "\n",
    "index.is_trained"
   ]
  },
  {
   "cell_type": "code",
   "execution_count": 21,
   "id": "7f5a9595-3c80-44c5-a5a5-be516a99817f",
   "metadata": {},
   "outputs": [],
   "source": [
    "index.train(sentence_embeddings)\n",
    "index.add(sentence_embeddings)"
   ]
  },
  {
   "cell_type": "code",
   "execution_count": 22,
   "id": "b951274e-6cc1-4f81-8491-88bea9b023d8",
   "metadata": {},
   "outputs": [],
   "source": [
    "index.nprobe = 10  # align to previous IndexIVFFlat nprobe value"
   ]
  },
  {
   "cell_type": "code",
   "execution_count": 23,
   "id": "c864da02-83b7-4419-b7c7-610a88179432",
   "metadata": {},
   "outputs": [
    {
     "name": "stdout",
     "output_type": "stream",
     "text": [
      "[[ 8401  8562 11083  4343]]\n",
      "CPU times: user 1.56 ms, sys: 0 ns, total: 1.56 ms\n",
      "Wall time: 864 µs\n"
     ]
    }
   ],
   "source": [
    "%%time\n",
    "D, I = index.search(xq, k)\n",
    "print(I)"
   ]
  },
  {
   "cell_type": "code",
   "execution_count": 24,
   "id": "57635c67-467a-4f5d-914a-b56774289b7f",
   "metadata": {},
   "outputs": [
    {
     "name": "stdout",
     "output_type": "stream",
     "text": [
      "A group of football players running down the field.\n",
      "Football players are on the field.\n",
      "A group of people playing football is running in the field\n",
      "A group of football players is running in the field\n"
     ]
    }
   ],
   "source": [
    "# Here we're returning indices [ 8401  8562 11083  4343]. The search only took around 1.56 ms.\n",
    "answers_index = [8401, 8562, 11083, 4343]\n",
    "for i in answers_index:\n",
    "    print(sentences[i])"
   ]
  }
 ],
 "metadata": {
  "kernelspec": {
   "display_name": "Python 3 (ipykernel)",
   "language": "python",
   "name": "python3"
  },
  "language_info": {
   "codemirror_mode": {
    "name": "ipython",
    "version": 3
   },
   "file_extension": ".py",
   "mimetype": "text/x-python",
   "name": "python",
   "nbconvert_exporter": "python",
   "pygments_lexer": "ipython3",
   "version": "3.8.6"
  }
 },
 "nbformat": 4,
 "nbformat_minor": 5
}
