{
 "cells": [
  {
   "cell_type": "code",
   "execution_count": null,
   "id": "a01d41fe-84b1-4edc-b4f9-6a239ace67f7",
   "metadata": {},
   "outputs": [],
   "source": [
    "# While extractive QA highlights the span of text that answers a query, generative QA can return a novel text answer that it has composed.\n",
    "# In this tutorial, you will learn how to set up a generative system using the RAG model which conditions the answer generator on a set of retrieved documents.\n",
    "from typing import List\n",
    "import requests\n",
    "import pandas as pd\n",
    "from haystack import Document\n",
    "from haystack.document_stores import FAISSDocumentStore\n",
    "from haystack.nodes import RAGenerator, DensePassageRetriever\n",
    "from haystack.utils import fetch_archive_from_http"
   ]
  },
  {
   "cell_type": "code",
   "execution_count": null,
   "id": "26749568-36d1-4599-9e4a-cc08547cc522",
   "metadata": {},
   "outputs": [],
   "source": [
    "# Download sample\n",
    "doc_dir = \"/mnt/sda/haystack/rag_generative_qa\"\n",
    "s3_url = \"https://s3.eu-central-1.amazonaws.com/deepset.ai-farm-qa/datasets/small_generator_dataset.csv.zip\"\n",
    "fetch_archive_from_http(url = s3_url, output_dir = doc_dir)\n",
    "\n",
    "# Create dataframe with columns \"title\" and \"text\"\n",
    "df = pd.read_csv(\"/mnt/sda/haystack/rag_generative_qa\" + \"/\" + \"small_generator_dataset.csv\", sep=\",\")\n",
    "# Minimal cleaning\n",
    "df.fillna(value = \"\", inplace = True)\n",
    "\n",
    "print(df.head())\n"
   ]
  },
  {
   "cell_type": "code",
   "execution_count": null,
   "id": "9a8ce571-451a-48f5-acab-e791c3fa7fd4",
   "metadata": {},
   "outputs": [],
   "source": [
    "# Use data to initialize Document objects\n",
    "titles = list(df[\"title\"].values)\n",
    "texts = list(df[\"text\"].values)\n",
    "documents: List[Document] = []\n",
    "for title, text in zip(titles, texts):\n",
    "    documents.append(Document(content=text, meta={ \"name\": title or \"\"}))"
   ]
  },
  {
   "cell_type": "code",
   "execution_count": null,
   "id": "6336ae85-6ddf-4b8f-b7b5-4659b361d6ca",
   "metadata": {},
   "outputs": [],
   "source": [
    "# Initialize FAISS document store.\n",
    "# Set `return_embedding` to `True`, so generator doesn't have to perform re-embedding\n",
    "document_store = FAISSDocumentStore(faiss_index_factory_str = \"Flat\", return_embedding = True)\n",
    "\n",
    "# Initialize DPR Retriever to encode documents, encode question and query documents\n",
    "retriever = DensePassageRetriever(\n",
    "    document_store = document_store,\n",
    "    query_embedding_model = \"facebook/dpr-question_encoder-single-nq-base\",\n",
    "    passage_embedding_model = \"facebook/dpr-ctx_encoder-single-nq-base\",\n",
    "    use_gpu = True,\n",
    "    embed_title = True,\n",
    ")\n",
    "\n",
    "# Initialize RAG Generator\n",
    "generator = RAGenerator(\n",
    "    model_name_or_path = \"facebook/rag-token-nq\",\n",
    "    use_gpu = True,\n",
    "    top_k = 1,\n",
    "    max_length = 200,\n",
    "    min_length = 2,\n",
    "    embed_title = True,\n",
    "    num_beams = 2,\n",
    ")\n",
    "\n",
    "# Delete existing documents in documents store\n",
    "document_store.delete_documents()\n",
    "# Write documents to document store\n",
    "document_store.write_documents(documents)\n",
    "# Add documents embeddings to index\n",
    "document_store.update_embeddings(retriever = retriever)\n"
   ]
  },
  {
   "cell_type": "code",
   "execution_count": null,
   "id": "647486ca-03b0-4e00-aeb3-9d49c2b68531",
   "metadata": {},
   "outputs": [],
   "source": [
    "QUESTIONS = [\n",
    "    \"who got the first nobel prize in physics\",\n",
    "    \"when is the next deadpool movie being released\",\n",
    "    \"which mode is used for short wave broadcast service\",\n",
    "    \"who is the owner of reading football club\",\n",
    "    \"when is the next scandal episode coming out\",\n",
    "    \"when is the last time the philadelphia won the superbowl\",\n",
    "    \"what is the most current adobe flash player version\",\n",
    "    \"how many episodes are there in dragon ball z\",\n",
    "    \"what is the first step in the evolution of the eye\",\n",
    "    \"where is gall bladder situated in human body\",\n",
    "    \"what is the main mineral in lithium batteries\",\n",
    "    \"who is the president of usa right now\",\n",
    "    \"where do the greasers live in the outsiders\",\n",
    "    \"panda is a national animal of which country\",\n",
    "    \"what is the name of manchester united stadium\",\n",
    "]\n",
    "\n",
    "from haystack.pipelines import GenerativeQAPipeline\n",
    "from haystack.utils import print_answers\n",
    "\n",
    "pipe = GenerativeQAPipeline(generator = generator, retriever = retriever)\n",
    "for question in QUESTIONS:\n",
    "    res = pipe.run(query = question, params = {\"Generator\": {\"top_k\": 1}, \"Retriever\": {\"top_k\": 5}})\n",
    "    print_answers(res, details = \"minimum\")"
   ]
  },
  {
   "cell_type": "code",
   "execution_count": null,
   "id": "3a2b499e-f816-4247-83eb-8046eb861a0f",
   "metadata": {},
   "outputs": [],
   "source": []
  }
 ],
 "metadata": {
  "kernelspec": {
   "display_name": "Python 3 (ipykernel)",
   "language": "python",
   "name": "python3"
  },
  "language_info": {
   "codemirror_mode": {
    "name": "ipython",
    "version": 3
   },
   "file_extension": ".py",
   "mimetype": "text/x-python",
   "name": "python",
   "nbconvert_exporter": "python",
   "pygments_lexer": "ipython3",
   "version": "3.8.6"
  }
 },
 "nbformat": 4,
 "nbformat_minor": 5
}
