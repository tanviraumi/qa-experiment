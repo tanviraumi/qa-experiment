{
 "cells": [
  {
   "cell_type": "code",
   "execution_count": 2,
   "id": "1a4b64eb-28ed-4c75-8858-6ed19995b9e5",
   "metadata": {},
   "outputs": [],
   "source": [
    "# Download the data\n",
    "import shutil\n",
    "import urllib.request as request\n",
    "from contextlib import closing\n",
    "\n",
    "# first we download the Sift1M dataset\n",
    "with closing(request.urlopen('ftp://ftp.irisa.fr/local/texmex/corpus/sift.tar.gz')) as r:\n",
    "    with open('/mnt/sda/vectors/sift.tar.gz', 'wb') as f:\n",
    "        shutil.copyfileobj(r, f)"
   ]
  },
  {
   "cell_type": "code",
   "execution_count": 3,
   "id": "5f2884fd-56ed-4735-ad72-abb0df874ec9",
   "metadata": {},
   "outputs": [],
   "source": [
    "# Extract the data\n",
    "import tarfile\n",
    "\n",
    "# the download leaves us with a tar.gz file, we unzip it\n",
    "tar = tarfile.open('/mnt/sda/vectors/sift.tar.gz', \"r:gz\")\n",
    "tar.extractall()"
   ]
  },
  {
   "cell_type": "code",
   "execution_count": 4,
   "id": "ad2c12af-c48e-40bb-ae4e-25073e9f6f1f",
   "metadata": {},
   "outputs": [],
   "source": [
    "import numpy as np\n",
    "\n",
    "# now define a function to read the fvecs file format of Sift1M dataset\n",
    "def read_fvecs(fp):\n",
    "    a = np.fromfile(fp, dtype='int32')\n",
    "    d = a[0]\n",
    "    return a.reshape(-1, d + 1)[:, 1:].copy().view('float32')"
   ]
  },
  {
   "cell_type": "code",
   "execution_count": 6,
   "id": "b17f18da-869f-4f25-9b59-db6354e3b4c7",
   "metadata": {},
   "outputs": [
    {
     "name": "stdout",
     "output_type": "stream",
     "text": [
      "(10000, 128)\n",
      "(1, 128)\n",
      "(1000000, 128)\n"
     ]
    }
   ],
   "source": [
    "# 1M samples\n",
    "xb = read_fvecs('/mnt/sda/vectors/sift/sift_base.fvecs')\n",
    "# queries\n",
    "xq_full = read_fvecs('/mnt/sda/vectors/sift/sift_query.fvecs')\n",
    "xq = xq_full[0].reshape(1, -1)\n",
    "\n",
    "print(xq_full.shape)\n",
    "print(xq.shape)\n",
    "print(xb.shape)"
   ]
  },
  {
   "cell_type": "code",
   "execution_count": 7,
   "id": "ca6c5018-353f-4ee9-8433-8f815b5de8b0",
   "metadata": {},
   "outputs": [
    {
     "name": "stdout",
     "output_type": "stream",
     "text": [
      "<faiss.swigfaiss.HNSW; proxy of <Swig Object of type 'faiss::HNSW *' at 0x7fe7684e6fc0> >\n"
     ]
    }
   ],
   "source": [
    "import faiss\n",
    "\n",
    "# setup our HNSW parameters\n",
    "d = 128  # vector size\n",
    "M = 32\n",
    "efSearch = 32  # number of entry points (neighbors) we use on each layer\n",
    "efConstruction = 32  # number of entry points used on each layer during construction\n",
    "\n",
    "index = faiss.IndexHNSWFlat(d, M)\n",
    "print(index.hnsw)"
   ]
  },
  {
   "cell_type": "code",
   "execution_count": 8,
   "id": "bf0a99cc-76ae-45a0-b1e9-d25053c9b503",
   "metadata": {},
   "outputs": [
    {
     "name": "stdout",
     "output_type": "stream",
     "text": [
      "-1\n",
      "[]\n"
     ]
    }
   ],
   "source": [
    "# the HNSW index starts with no levels\n",
    "print(index.hnsw.max_level)\n",
    "\n",
    "# and levels (or layers) are empty too\n",
    "levels = faiss.vector_to_array(index.hnsw.levels)\n",
    "print(np.bincount(levels))"
   ]
  },
  {
   "cell_type": "code",
   "execution_count": 9,
   "id": "93d7e45c-dec9-4072-9192-90cb5f4fc2f7",
   "metadata": {},
   "outputs": [
    {
     "name": "stdout",
     "output_type": "stream",
     "text": [
      "4\n",
      "[     0 968746  30276    951     26      1]\n",
      "118295\n"
     ]
    }
   ],
   "source": [
    "# If we go ahead and build the index, we’ll find that both of these parameters are now set.\n",
    "index.add(xb)\n",
    "\n",
    "# after adding our data we will find that the level has been set automatically\n",
    "print(index.hnsw.max_level)\n",
    "\n",
    "# and levels (or layers) are now populated\n",
    "levels = faiss.vector_to_array(index.hnsw.levels)\n",
    "print(np.bincount(levels))\n",
    "\n",
    "# We can even find which vector has been selected as our entry point\n",
    "print(index.hnsw.entry_point)"
   ]
  },
  {
   "cell_type": "code",
   "execution_count": 14,
   "id": "186e53d3-0511-4b07-b064-62fa830b29c3",
   "metadata": {},
   "outputs": [
    {
     "name": "stdout",
     "output_type": "stream",
     "text": [
      "[0.96875, 0.030273437499999986, 0.0009460449218749991, 2.956390380859371e-05, 9.23871994018553e-07, 2.887099981307982e-08] [64, 96, 128, 160, 192, 224]\n",
      "[968821  30170    985     23      1]\n"
     ]
    }
   ],
   "source": [
    "# That was a high-level view of our Faiss-flavored HNSW graph, but before we test the index, let’s dive a little deeper into\n",
    "# how Faiss is building this structure.\n",
    "\n",
    "# When we initialize our index we pass our vector dimensionality d and number of neighbors for each vertex M.\n",
    "# This calls the method ‘set_default_probas’, passing M and 1 / log(M) in the place of levelMult (equivalent to m_L above).\n",
    "# A Python equivalent of this method looks like:\n",
    "\n",
    "def set_default_probas(M: int, m_L: float):\n",
    "    nn = 0  # set nearest neighbors count = 0\n",
    "    cum_nneighbor_per_level = []\n",
    "    level = 0  # we start at level 0\n",
    "    assign_probas = []\n",
    "    while True:\n",
    "        # calculate probability for current level\n",
    "        proba = np.exp(-level / m_L) * (1 - np.exp(-1 / m_L))\n",
    "        # once we reach low prob threshold, we've created enough levels\n",
    "        if proba < 1e-9: break\n",
    "        assign_probas.append(proba)\n",
    "        # neighbors is == M on every level except level 0 where == M*2\n",
    "        nn += M*2 if level == 0 else M\n",
    "        cum_nneighbor_per_level.append(nn)\n",
    "        level += 1\n",
    "    return assign_probas, cum_nneighbor_per_level\n",
    "\n",
    "# Here we are building two vectors — assign_probas: the probability of insertion at a given layer, and\n",
    "# cum_nneighbor_per_level: the cumulative total of nearest neighbors assigned to a vertex at different insertion levels.\n",
    "assign_probas, cum_nneighbor_per_level = set_default_probas(\n",
    "    32, 1/np.log(32)\n",
    ")\n",
    "print(assign_probas, cum_nneighbor_per_level)\n",
    "\n",
    "# From this, we can see the significantly higher probability of inserting a vector at level 0 than higher levels\n",
    "# (although, as we will explain below, the probability is not exactly as defined here). This function means higher levels are more sparse,\n",
    "# reducing the likelihood of ‘getting stuck’, and ensuring we start with longer range traversals.\n",
    "\n",
    "# Our assign_probas vector is used by another method called random_level — it is in this function that each vertex is assigned an insertion level.\n",
    "\n",
    "# this is copy of HNSW::random_level function\n",
    "def random_level(assign_probas: list, rng):\n",
    "    # get random float from 'r'andom 'n'umber 'g'enerator\n",
    "    f = rng.uniform() \n",
    "    for level in range(len(assign_probas)):\n",
    "        # if the random float is less than level probability...\n",
    "        if f < assign_probas[level]:\n",
    "            # ... we assert at this level\n",
    "            return level\n",
    "        # otherwise subtract level probability and try again\n",
    "        f -= assign_probas[level]\n",
    "    # below happens with very low probability\n",
    "    return len(assign_probas) - 1\n",
    "\n",
    "chosen_levels = []\n",
    "rng = np.random.default_rng(12345)\n",
    "for _ in range(1_000_000):\n",
    "    chosen_levels.append(random_level(assign_probas, rng))\n",
    "print(np.bincount(chosen_levels))\n",
    "\n",
    "# We need a lot of vectors for any of them to be assigned to the top-level layer 5 - using our 1_000_000 sample size we actually don't return any \n",
    "# at this higher level, and in fact only return one vertex at level 4."
   ]
  },
  {
   "cell_type": "code",
   "execution_count": 20,
   "id": "7df6fae4-8bca-4d62-83e1-e212c402ca88",
   "metadata": {},
   "outputs": [
    {
     "name": "stdout",
     "output_type": "stream",
     "text": [
      "0.28853900817779266\n"
     ]
    }
   ],
   "source": [
    "# If we wanted, we could increase the likelihood of insertion at higher layers by decreasing or increasing the level multiplier m_L,\n",
    "# but the difference is minor, very random (probability could shift up/down), and also changes the calculated optimal number of layers,\n",
    "# so it is not worth changing unless you have a specific reason for doing so - and changing this isn't supported in Faiss (at least from the Python wrapper).\n",
    "# We can access the set_default_probas function as we will see below, but on modifying the values we will see no impact.\n",
    "\n",
    "\n",
    "# First let's see what our current and expected values would be using our Python implementation, when using M == 32,\n",
    "# Faiss will set m_L as 1/log(M), which leaves us with 0.2885:\n",
    "print(1/np.log(32))\n",
    "\n",
    "# Changing M and m_L using our Python implementation outputs:\n",
    "set_default_probas(32, 0.09)\n",
    "\n",
    "# Over in Faiss, we can view the population of each level using our 'default' implementation.\n",
    "levels = faiss.vector_to_array(index.hnsw.levels)\n",
    "np.bincount(levels)\n",
    "\n",
    "# Now let's try using index.hnsw.set_default_probas to change the level structure:\n",
    "del index\n",
    "index = faiss.IndexHNSWFlat(d, 32)\n",
    "index.hnsw.set_default_probas(32, 0.09)  # HNSW::set_default_probas(int M, float levelMult)\n",
    "index.hnsw.efConstruction = efConstruction\n",
    "index.add(xb)\n",
    "\n",
    "levels = faiss.vector_to_array(index.hnsw.levels)\n",
    "np.bincount(levels)\n",
    "\n",
    "# Finally, let's validate that m_L values ~0 produce a single layer HNSW graph (eg a NSW graph):\n",
    "assign_probas, cum_nneighbor_per_level = set_default_probas(32, 0.0000001)\n",
    "assign_probas, cum_nneighbor_per_level\n",
    "\n",
    "chosen_levels = []\n",
    "rng = np.random.default_rng(12345)\n",
    "for _ in range(1_000_000):\n",
    "    chosen_levels.append(random_level(assign_probas, rng))\n",
    "    \n",
    "np.bincount(chosen_levels)\n",
    "del index"
   ]
  },
  {
   "cell_type": "code",
   "execution_count": 28,
   "id": "7c4f84e9-8a5c-4bb8-a007-0569d2cc3bce",
   "metadata": {},
   "outputs": [],
   "source": [
    "# We've worked through a lot of the implementation detail in Faiss, let's now take a look at how different parameters can affect the performance of our index.\n",
    "# We have two index construction parameters that can be modified, M and efConstruction.\n",
    "\n",
    "recall_idx = []\n",
    "\n",
    "index = faiss.IndexFlatL2(d)\n",
    "index.add(xb)\n",
    "D, recall_idx = index.search(xq_full[:1000], k = 1)"
   ]
  },
  {
   "cell_type": "code",
   "execution_count": 29,
   "id": "8f1cdb0d-87fc-42c4-81ac-e0610b26cb1b",
   "metadata": {},
   "outputs": [],
   "source": [
    "import os\n",
    "def get_memory(filename, index):\n",
    "    faiss.write_index(index, filename)\n",
    "    file_size = os.path.getsize(filename)\n",
    "    os.remove(filename)\n",
    "    return file_size"
   ]
  },
  {
   "cell_type": "code",
   "execution_count": null,
   "id": "040e0861-5876-4806-9712-e49dd78dbb1c",
   "metadata": {},
   "outputs": [],
   "source": [
    "import pandas as pd\n",
    "from tqdm.auto import trange\n",
    "from datetime import datetime\n",
    "\n",
    "dir_path = \"/mnt/sda/vectors/perf/\"\n",
    "\n",
    "results = pd.DataFrame({\n",
    "    'M': [],\n",
    "    'efConstruction': [],\n",
    "    'efSearch': [],\n",
    "    'recall@1': [],\n",
    "    'build_time': [],\n",
    "    'search_time': [],\n",
    "    'memory_usage': []\n",
    "})\n",
    "\n",
    "for epoch in range(3):\n",
    "    for M_bit in range(1, 10):\n",
    "        M = 2 ** M_bit\n",
    "        print(M)\n",
    "        for ef_bit in trange(1, 6):\n",
    "            efConstruction = 2 ** ef_bit\n",
    "            index = faiss.IndexHNSWFlat(d, M)\n",
    "            index.efConstruction = efConstruction\n",
    "            start = datetime.now()\n",
    "            index.add(xb)\n",
    "            build_time = (datetime.now() - start).microseconds\n",
    "            memory_usage = get_memory(dir_path + \"temp.index\", index)\n",
    "            for efSearch in [2, 4, 8, 16, 32]:\n",
    "                index.efSearch = efSearch\n",
    "                start = datetime.now()\n",
    "                D, I = index.search(xq_full[:1000], k = 1)\n",
    "                search_time = (datetime.now() - start).microseconds\n",
    "                recall = sum(I == recall_idx)[0]\n",
    "                results = results.append({\n",
    "                    'M': M,\n",
    "                    'efConstruction': efConstruction,\n",
    "                    'efSearch': efSearch,\n",
    "                    'recall@1': recall,\n",
    "                    'build_time': build_time,\n",
    "                    'search_time': search_time,\n",
    "                    'memory_usage': memory_usage\n",
    "                }, ignore_index = True)\n",
    "            del index\n",
    "results.to_csv(dir_path + \"results.csv\", sep = '|', index = False)\n",
    "print(\"Done\")"
   ]
  },
  {
   "cell_type": "code",
   "execution_count": 8,
   "id": "5628e440-52e9-4621-834d-255ab3bd00e2",
   "metadata": {},
   "outputs": [
    {
     "data": {
      "text/html": [
       "<div>\n",
       "<style scoped>\n",
       "    .dataframe tbody tr th:only-of-type {\n",
       "        vertical-align: middle;\n",
       "    }\n",
       "\n",
       "    .dataframe tbody tr th {\n",
       "        vertical-align: top;\n",
       "    }\n",
       "\n",
       "    .dataframe thead th {\n",
       "        text-align: right;\n",
       "    }\n",
       "</style>\n",
       "<table border=\"1\" class=\"dataframe\">\n",
       "  <thead>\n",
       "    <tr style=\"text-align: right;\">\n",
       "      <th></th>\n",
       "      <th>M</th>\n",
       "      <th>efConstruction</th>\n",
       "      <th>efSearch</th>\n",
       "      <th>recall@1</th>\n",
       "      <th>build_time</th>\n",
       "      <th>search_time</th>\n",
       "      <th>memory_usage</th>\n",
       "    </tr>\n",
       "  </thead>\n",
       "  <tbody>\n",
       "    <tr>\n",
       "      <th>0</th>\n",
       "      <td>2.0</td>\n",
       "      <td>2.0</td>\n",
       "      <td>2.0</td>\n",
       "      <td>102.0</td>\n",
       "      <td>145997.0</td>\n",
       "      <td>7420.0</td>\n",
       "      <td>547995894.0</td>\n",
       "    </tr>\n",
       "    <tr>\n",
       "      <th>1</th>\n",
       "      <td>2.0</td>\n",
       "      <td>2.0</td>\n",
       "      <td>4.0</td>\n",
       "      <td>102.0</td>\n",
       "      <td>145997.0</td>\n",
       "      <td>11735.0</td>\n",
       "      <td>547995894.0</td>\n",
       "    </tr>\n",
       "    <tr>\n",
       "      <th>2</th>\n",
       "      <td>2.0</td>\n",
       "      <td>2.0</td>\n",
       "      <td>8.0</td>\n",
       "      <td>102.0</td>\n",
       "      <td>145997.0</td>\n",
       "      <td>10969.0</td>\n",
       "      <td>547995894.0</td>\n",
       "    </tr>\n",
       "    <tr>\n",
       "      <th>3</th>\n",
       "      <td>2.0</td>\n",
       "      <td>2.0</td>\n",
       "      <td>16.0</td>\n",
       "      <td>102.0</td>\n",
       "      <td>145997.0</td>\n",
       "      <td>11674.0</td>\n",
       "      <td>547995894.0</td>\n",
       "    </tr>\n",
       "    <tr>\n",
       "      <th>4</th>\n",
       "      <td>2.0</td>\n",
       "      <td>2.0</td>\n",
       "      <td>32.0</td>\n",
       "      <td>102.0</td>\n",
       "      <td>145997.0</td>\n",
       "      <td>10876.0</td>\n",
       "      <td>547995894.0</td>\n",
       "    </tr>\n",
       "  </tbody>\n",
       "</table>\n",
       "</div>"
      ],
      "text/plain": [
       "     M  efConstruction  efSearch  recall@1  build_time  search_time  \\\n",
       "0  2.0             2.0       2.0     102.0    145997.0       7420.0   \n",
       "1  2.0             2.0       4.0     102.0    145997.0      11735.0   \n",
       "2  2.0             2.0       8.0     102.0    145997.0      10969.0   \n",
       "3  2.0             2.0      16.0     102.0    145997.0      11674.0   \n",
       "4  2.0             2.0      32.0     102.0    145997.0      10876.0   \n",
       "\n",
       "   memory_usage  \n",
       "0   547995894.0  \n",
       "1   547995894.0  \n",
       "2   547995894.0  \n",
       "3   547995894.0  \n",
       "4   547995894.0  "
      ]
     },
     "execution_count": 8,
     "metadata": {},
     "output_type": "execute_result"
    }
   ],
   "source": [
    "import pandas as pd\n",
    "dir_path = \"/mnt/sda/vectors/perf/\"\n",
    "results = pd.read_csv(dir_path + \"results.csv\", sep = '|')\n",
    "results.head()"
   ]
  },
  {
   "cell_type": "code",
   "execution_count": 9,
   "id": "16a75239-1838-4421-b5cc-d1b2a39e8866",
   "metadata": {},
   "outputs": [
    {
     "data": {
      "image/png": "[encoded data removed]",
      "text/plain": [
       "<Figure size 432x288 with 1 Axes>"
      ]
     },
     "metadata": {
      "needs_background": "light"
     },
     "output_type": "display_data"
    },
    {
     "data": {
      "image/png": "[encoded data removed]",
      "text/plain": [
       "<Figure size 432x288 with 1 Axes>"
      ]
     },
     "metadata": {
      "needs_background": "light"
     },
     "output_type": "display_data"
    },
    {
     "data": {
      "image/png": "[encoded data removed]",
      "text/plain": [
       "<Figure size 432x288 with 1 Axes>"
      ]
     },
     "metadata": {
      "needs_background": "light"
     },
     "output_type": "display_data"
    }
   ],
   "source": [
    "import matplotlib.pyplot as plt\n",
    "import seaborn as sns\n",
    "\n",
    "for efConstruction in [2, 16, 64]:\n",
    "    sns.lineplot(data = results[results['efConstruction'] == efConstruction], x = 'efSearch', y = 'recall@1', hue = 'M')\n",
    "    plt.show()"
   ]
  },
  {
   "cell_type": "code",
   "execution_count": 10,
   "id": "d4a79baf-666b-4500-ae1c-0fc96c6865a3",
   "metadata": {},
   "outputs": [
    {
     "name": "stderr",
     "output_type": "stream",
     "text": [
      "/tmp/ipykernel_1060327/3040753812.py:4: UserWarning: Attempted to set non-positive bottom ylim on a log-scaled axis.\n",
      "Invalid limit will be ignored.\n",
      "  plt.ylim(0, 500_000)\n"
     ]
    },
    {
     "data": {
      "image/png": "[encoded data removed]",
      "text/plain": [
       "<Figure size 432x288 with 1 Axes>"
      ]
     },
     "metadata": {
      "needs_background": "light"
     },
     "output_type": "display_data"
    },
    {
     "name": "stderr",
     "output_type": "stream",
     "text": [
      "/tmp/ipykernel_1060327/3040753812.py:4: UserWarning: Attempted to set non-positive bottom ylim on a log-scaled axis.\n",
      "Invalid limit will be ignored.\n",
      "  plt.ylim(0, 500_000)\n"
     ]
    },
    {
     "data": {
      "image/png": "[encoded data removed]",
      "text/plain": [
       "<Figure size 432x288 with 1 Axes>"
      ]
     },
     "metadata": {
      "needs_background": "light"
     },
     "output_type": "display_data"
    },
    {
     "name": "stderr",
     "output_type": "stream",
     "text": [
      "/tmp/ipykernel_1060327/3040753812.py:4: UserWarning: Attempted to set non-positive bottom ylim on a log-scaled axis.\n",
      "Invalid limit will be ignored.\n",
      "  plt.ylim(0, 500_000)\n"
     ]
    },
    {
     "data": {
      "image/png": "[encoded data removed]",
      "text/plain": [
       "<Figure size 432x288 with 1 Axes>"
      ]
     },
     "metadata": {
      "needs_background": "light"
     },
     "output_type": "display_data"
    }
   ],
   "source": [
    "for efConstruction in [2, 16, 64]:\n",
    "    sns.lineplot(data = results[results['efConstruction'] == efConstruction], x = 'efSearch', y = 'search_time', hue = 'M')\n",
    "    plt.yscale('log')\n",
    "    plt.ylim(0, 500_000)\n",
    "    plt.show()"
   ]
  },
  {
   "cell_type": "code",
   "execution_count": 11,
   "id": "4c5593ff-716d-42f2-8707-83856b08d972",
   "metadata": {},
   "outputs": [
    {
     "data": {
      "text/plain": [
       "<AxesSubplot:xlabel='M', ylabel='memory_usage'>"
      ]
     },
     "execution_count": 11,
     "metadata": {},
     "output_type": "execute_result"
    },
    {
     "data": {
      "image/png": "[encoded data removed]",
      "text/plain": [
       "<Figure size 432x288 with 1 Axes>"
      ]
     },
     "metadata": {
      "needs_background": "light"
     },
     "output_type": "display_data"
    }
   ],
   "source": [
    "sns.lineplot(data = results, x = 'M', y = 'memory_usage')"
   ]
  },
  {
   "cell_type": "code",
   "execution_count": null,
   "id": "c095c331-eae4-4e9b-b4a3-9613c007b3fb",
   "metadata": {},
   "outputs": [],
   "source": []
  }
 ],
 "metadata": {
  "kernelspec": {
   "display_name": "Python 3 (ipykernel)",
   "language": "python",
   "name": "python3"
  },
  "language_info": {
   "codemirror_mode": {
    "name": "ipython",
    "version": 3
   },
   "file_extension": ".py",
   "mimetype": "text/x-python",
   "name": "python",
   "nbconvert_exporter": "python",
   "pygments_lexer": "ipython3",
   "version": "3.8.6"
  }
 },
 "nbformat": 4,
 "nbformat_minor": 5
}
