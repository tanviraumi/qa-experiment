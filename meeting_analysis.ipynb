{
 "cells": [
  {
   "cell_type": "code",
   "execution_count": null,
   "id": "2248e7b6-b0e0-4764-ac28-3db6be052cd5",
   "metadata": {},
   "outputs": [],
   "source": [
    "from nltk.tokenize import word_tokenize\n",
    "import json\n",
    "\n",
    "def count_word(text):\n",
    "    return len([word for word in word_tokenize(text) if word.isalpha()])"
   ]
  },
  {
   "cell_type": "code",
   "execution_count": null,
   "id": "b4983fa1-e753-48bd-a459-b99ab309b729",
   "metadata": {},
   "outputs": [],
   "source": [
    "input_dir = \"/mnt/sda/highspot/new_data/gong_call_transscript_with_summary_chunked/\"\n",
    "\n",
    "text_length = []\n",
    "summ_length = []\n",
    "dur_length = []\n",
    "num_of_topics = []\n",
    "\n",
    "for i in range(0, 25):\n",
    "    input_file = input_dir + str(i) + \".json\"\n",
    "    input_data = json.load(open(input_file))\n",
    "    for key in input_data:\n",
    "        input_doc = input_data[key]['document']\n",
    "        dur_length.append(input_doc['duration'])\n",
    "        num_of_topics.append(len(input_doc['topics']))\n",
    "        for topic in input_doc['topics']:\n",
    "            texts = topic['text']\n",
    "            summary = topic['summary']\n",
    "            summ_length.append(count_word(summary))\n",
    "            cumm_length = 0\n",
    "            for text in texts:\n",
    "                # +1 for speaker name\n",
    "                cumm_length += count_word(text['dialogue']) + 1\n",
    "            text_length.append(cumm_length)\n",
    "    print(f\"Processed file {i}.json\")"
   ]
  },
  {
   "cell_type": "code",
   "execution_count": null,
   "id": "fb2ebf40-0839-421d-a6a1-584b326b77b4",
   "metadata": {},
   "outputs": [],
   "source": [
    "# Lets plot the distribution of word length for dialogues an summaries\n",
    "import matplotlib.pyplot as plt\n",
    "\n",
    "fig, axes = plt.subplots(1, 2, figsize = (10, 3.5), sharey = True)\n",
    "axes[0].hist(text_length, bins = 20, color = \"C0\", edgecolor = \"C0\")\n",
    "axes[0].set_title(\"Dialogue word Length\")\n",
    "axes[0].set_xlabel(\"Length\")\n",
    "axes[0].set_ylabel(\"Count\")\n",
    "axes[1].hist(summ_length, bins = 20, color = \"C0\", edgecolor = \"C0\")\n",
    "axes[1].set_title(\"Summary word Length\")\n",
    "axes[1].set_xlabel(\"Length\")\n",
    "plt.tight_layout()\n",
    "plt.show()"
   ]
  },
  {
   "cell_type": "code",
   "execution_count": null,
   "id": "13f97029-e8d7-49a1-8c3a-6a667758de87",
   "metadata": {},
   "outputs": [],
   "source": [
    "# Lets plot the distribution of duration and number of topics per transcript\n",
    "fig, axes = plt.subplots(1, 2, figsize = (10, 3.5), sharey = True)\n",
    "axes[0].hist(num_of_topics, bins = 20, color = \"C0\", edgecolor = \"C0\")\n",
    "axes[0].set_title(\"Number of topics\")\n",
    "axes[0].set_xlabel(\"Number of documents\")\n",
    "axes[0].set_ylabel(\"Count\")\n",
    "axes[1].hist(dur_length, bins = 20, color = \"C0\", edgecolor = \"C0\")\n",
    "axes[1].set_title(\"Duration\")\n",
    "axes[1].set_xlabel(\"Number of documents\")\n",
    "plt.tight_layout()\n",
    "plt.show()"
   ]
  },
  {
   "cell_type": "code",
   "execution_count": null,
   "id": "72d946fb-e56a-4568-b616-fc610efa6087",
   "metadata": {},
   "outputs": [],
   "source": []
  }
 ],
 "metadata": {
  "kernelspec": {
   "display_name": "Python 3 (ipykernel)",
   "language": "python",
   "name": "python3"
  },
  "language_info": {
   "codemirror_mode": {
    "name": "ipython",
    "version": 3
   },
   "file_extension": ".py",
   "mimetype": "text/x-python",
   "name": "python",
   "nbconvert_exporter": "python",
   "pygments_lexer": "ipython3",
   "version": "3.8.6"
  }
 },
 "nbformat": 4,
 "nbformat_minor": 5
}
